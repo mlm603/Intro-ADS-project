{
 "cells": [
  {
   "cell_type": "code",
   "execution_count": null,
   "id": "041906eb-336f-4e8d-820d-e28710c2e491",
   "metadata": {},
   "outputs": [],
   "source": [
    "import pandas as pd\n",
    "import geopandas as gpd"
   ]
  },
  {
   "cell_type": "code",
   "execution_count": null,
   "id": "cbcf36b3-0f43-49dd-82e0-32908386b49d",
   "metadata": {},
   "outputs": [],
   "source": [
    "# Load the internet data and zip code shape files\n",
    "# Internet data: https://data.cityofnewyork.us/City-Government/Broadband-Adoption-and-Infrastructure-by-Zip-Code/qz5f-yx82/data?no_mobile=true\n",
    "# Zip code data: https://data.cityofnewyork.us/Health/Modified-Zip-Code-Tabulation-Areas-MODZCTA-/pri4-ifjk\n",
    "# Zip code data is already in WGS84, so no conversion needed\n",
    "internet = pd.read_csv(r\"Broadband_Adoption_and_Infrastructure_by_Zip_Code_20231127.csv\")\n",
    "zipData = gpd.read_file(r\"geo_export_fc721dfd-087f-41ed-b841-bec5c0e62515.shp\")"
   ]
  },
  {
   "cell_type": "code",
   "execution_count": null,
   "id": "ae8a4fc0-3c60-46cf-b6e2-830e64b3751f",
   "metadata": {},
   "outputs": [],
   "source": [
    "# Merge the internet data with the zip code shapes\n",
    "# The modified zip code areas contain multiple internet locations\n",
    "# Assign each internet area to its modified zip code \n",
    "zipData['modzcta'] = zipData['modzcta'].astype(int)\n",
    "zipData = zipData.drop(index=177)\n",
    "zipTab = []\n",
    "for i in range(0, len(zipData['zcta'])):\n",
    "    zipLab = zipData.iloc[i, 1]\n",
    "    zipZCTA = zipData.iloc[i, 2]\n",
    "    x = (zipLab + ', ' + zipZCTA)\n",
    "    x = x.split(', ')\n",
    "    x = [int(y) for y in x]\n",
    "    zipTab.append(x)\n",
    "\n",
    "# Assign by first match\n",
    "internet['Zip Code'] = internet['Zip Code'].astype(int)\n",
    "inds = []\n",
    "for i in range(0, len(internet['Zip Code'])):\n",
    "    x = internet.iloc[i, 1]\n",
    "    for j in range(0, len(zipTab)):\n",
    "        zipSet = zipTab[j]\n",
    "        if x in zipSet:\n",
    "            inds.append(j)\n",
    "            break\n",
    "        if j == (len(zipTab) - 1):\n",
    "            inds.append(pd.NA)\n",
    "    \n",
    "# Perform the merge\n",
    "internet = internet.assign(id = inds)\n",
    "zipData = zipData.assign(id = range(0, zipData.shape[0]))\n",
    "internet = internet.merge(\n",
    "    zipData,\n",
    "    on='id',\n",
    "    how='left'\n",
    ")"
   ]
  },
  {
   "cell_type": "code",
   "execution_count": null,
   "id": "d599862b-1e87-4fc7-9236-6f145653b186",
   "metadata": {},
   "outputs": [],
   "source": [
    "# For internet observations with multiple zip codes\n",
    "# Aggregate salient columns\n",
    "# Just for demonstration - we can choose to do this in whatever way makes the most sense for the analysis\n",
    "internet = internet.groupby(internet['id'], as_index=False).agg({\n",
    "    'Home Broadband Adoption (Percentage of  Households)':'mean',\n",
    "    'Mobile Broadband Adoption (Percentage of Households)':'mean',\n",
    "    'No Internet Access (Percentage of Households)':'mean',\n",
    "    'No Home Broadband Adoption (Percentage of  Households)':'mean',\n",
    "    'No Mobile Broadband Adoption (Percentage of Households)':'mean',\n",
    "    'Public Computer Center Count':'sum',\n",
    "    'Public Wi-Fi Count':'sum',\n",
    "    'modzcta':'first',\n",
    "    'pop_est':'first',\n",
    "    'geometry':'first'\n",
    "})\n",
    "internet = gpd.GeoDataFrame(internet)"
   ]
  }
 ],
 "metadata": {
  "kernelspec": {
   "display_name": "Python 3 (ipykernel)",
   "language": "python",
   "name": "python3"
  },
  "language_info": {
   "codemirror_mode": {
    "name": "ipython",
    "version": 3
   },
   "file_extension": ".py",
   "mimetype": "text/x-python",
   "name": "python",
   "nbconvert_exporter": "python",
   "pygments_lexer": "ipython3",
   "version": "3.11.6"
  }
 },
 "nbformat": 4,
 "nbformat_minor": 5
}
